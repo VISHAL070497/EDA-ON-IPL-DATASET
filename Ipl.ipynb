{
 "cells": [
  {
   "cell_type": "code",
   "execution_count": 1,
   "id": "5a81fe33-8bbf-4774-b437-6a56eabe0ee0",
   "metadata": {},
   "outputs": [],
   "source": [
    "import pandas as pd\n",
    "import numpy as np"
   ]
  },
  {
   "cell_type": "code",
   "execution_count": 2,
   "id": "cd31a3e4-ee7a-439d-a98b-bbd6bcfd7bb1",
   "metadata": {},
   "outputs": [],
   "source": [
    "df_ipl=pd.read_csv('IPL Ball-by-Ball 2008-2020.csv')"
   ]
  },
  {
   "cell_type": "code",
   "execution_count": 3,
   "id": "6c2f08bc-c058-47fe-8086-f9c384659b3b",
   "metadata": {},
   "outputs": [
    {
     "data": {
      "text/plain": [
       "Index(['id', 'inning', 'over', 'ball', 'batsman', 'non_striker', 'bowler',\n",
       "       'batsman_runs', 'extra_runs', 'total_runs', 'non_boundary', 'is_wicket',\n",
       "       'dismissal_kind', 'player_dismissed', 'fielder', 'extras_type',\n",
       "       'batting_team', 'bowling_team'],\n",
       "      dtype='object')"
      ]
     },
     "execution_count": 3,
     "metadata": {},
     "output_type": "execute_result"
    }
   ],
   "source": [
    "#1\n",
    "df_ipl.columns"
   ]
  },
  {
   "cell_type": "code",
   "execution_count": 4,
   "id": "7a3690d0-730c-4e7b-8184-c7eeb968c3c8",
   "metadata": {},
   "outputs": [],
   "source": [
    "df_iplm=pd.read_csv('IPL Matches 2008-2020.csv')"
   ]
  },
  {
   "cell_type": "code",
   "execution_count": 5,
   "id": "fa3ea8b0-964d-4c28-8802-e3ebce7db7b0",
   "metadata": {},
   "outputs": [
    {
     "data": {
      "text/plain": [
       "Index(['id', 'city', 'date', 'player_of_match', 'venue', 'neutral_venue',\n",
       "       'team1', 'team2', 'toss_winner', 'toss_decision', 'winner', 'result',\n",
       "       'result_margin', 'eliminator', 'method', 'umpire1', 'umpire2'],\n",
       "      dtype='object')"
      ]
     },
     "execution_count": 5,
     "metadata": {},
     "output_type": "execute_result"
    }
   ],
   "source": [
    "#1\n",
    "df_iplm.columns"
   ]
  },
  {
   "cell_type": "code",
   "execution_count": 6,
   "id": "5c86497a-1567-4533-90b4-ccd9e416f6e0",
   "metadata": {},
   "outputs": [
    {
     "data": {
      "text/plain": [
       "537"
      ]
     },
     "execution_count": 6,
     "metadata": {},
     "output_type": "execute_result"
    }
   ],
   "source": [
    "#2\n",
    "len(df_ipl['batsman'].unique())"
   ]
  },
  {
   "cell_type": "code",
   "execution_count": 7,
   "id": "9379123f-e2ba-4b7a-bdee-fa13ea68fdc3",
   "metadata": {
    "scrolled": true,
    "tags": []
   },
   "outputs": [
    {
     "data": {
      "text/plain": [
       "array(['RT Ponting', 'BB McCullum', 'DJ Hussey', 'Mohammad Hafeez',\n",
       "       'SC Ganguly', 'CL White', 'MV Boucher', 'B Akhil', 'AA Noffke',\n",
       "       'P Kumar', 'Z Khan', 'SB Joshi', 'W Jaffer', 'JH Kallis',\n",
       "       'R Dravid', 'V Kohli', 'K Goel', 'MEK Hussey', 'JR Hopes',\n",
       "       'SK Raina', 'JDP Oram', 'S Badrinath', 'PA Patel', 'ML Hayden',\n",
       "       'MS Dhoni', 'KC Sangakkara', 'Yuvraj Singh', 'SM Katich',\n",
       "       'IK Pathan', 'T Kohli', 'YK Pathan', 'S Dhawan', 'G Gambhir',\n",
       "       'SK Warne', 'D Salunkhe', 'SK Trivedi', 'V Sehwag', 'SR Watson',\n",
       "       'M Kaif', 'DS Lehmann', 'RA Jadeja', 'M Rawat', 'L Ronchi',\n",
       "       'ST Jayasuriya', 'DJ Thornely', 'RV Uthappa', 'PR Shah',\n",
       "       'AM Nayar', 'SM Pollock', 'Harbhajan Singh', 'S Chanderpaul',\n",
       "       'LRPL Taylor', 'WP Saha', 'AS Yadav', 'A Symonds', 'SB Bangar',\n",
       "       'WPUJC Vaas', 'RP Singh', 'AC Gilchrist', 'Y Venugopal Rao',\n",
       "       'VVS Laxman', 'RG Sharma', 'SB Styris', 'LR Shukla', 'PP Chawla',\n",
       "       'Kamran Akmal', 'DPMD Jayawardene', 'S Sohal', 'B Lee', 'WA Mota',\n",
       "       'Shahid Afridi', 'DJ Bravo', 'A Nehra', 'MA Khote', 'GC Smith',\n",
       "       'Pankaj Singh', 'S Sreesanth', 'VRV Singh', 'SS Tiwary',\n",
       "       'RR Sarwan', 'DS Kulkarni', 'R Vinay Kumar', 'M Kartik',\n",
       "       'I Sharma', 'AB Agarkar', 'AM Rahane', 'TM Srivastava',\n",
       "       'Shoaib Malik', 'MK Tiwary', 'KD Karthik', 'R Bhatia',\n",
       "       'MF Maharoof', 'VY Mahesh', 'B Chipli', 'DW Steyn', 'DB Das',\n",
       "       'MK Pandey', 'HH Gibbs', 'DNT Zoysa', 'D Kalyankrishna',\n",
       "       'SE Marsh', 'SA Asnodkar', 'BJ Hodge', 'Sohail Tanvir',\n",
       "       'Salman Butt', 'Umar Gul', 'AB Dinda', 'AB de Villiers',\n",
       "       'SP Fleming', 'S Vidyut', 'JA Morkel', 'LPC Silva', 'DB Ravi Teja',\n",
       "       'Misbah-ul-Haq', 'PJ Sangwan', 'YV Takawale', 'RR Raje',\n",
       "       'Mohammad Asif', 'GD McGrath', 'Joginder Sharma', 'MS Gony',\n",
       "       'M Muralitharan', 'M Ntini', 'DT Patil', 'A Kumble', 'S Anirudha',\n",
       "       'MM Patel', 'CK Kapugedera', 'A Chopra', 'T Taibu', 'J Arunkumar',\n",
       "       'PP Ojha', 'SP Goswami', 'SR Tendulkar', 'U Kaul', 'Niraj Patel',\n",
       "       'AD Mascarenhas', 'TM Dilshan', 'A Mishra', 'LA Pomersbach',\n",
       "       'Iqbal Abdulla', 'Younis Khan', 'PM Sarvesh Kumar',\n",
       "       'DP Vijaykumar', 'Shoaib Akhtar', 'Abdur Razzak', 'H Das',\n",
       "       'DR Smith', 'SD Chitnis', 'CRD Fernando', 'VS Yeligati',\n",
       "       'L Balaji', 'A Mukund', 'RR Powar', 'JP Duminy', 'A Flintoff',\n",
       "       'T Thushara', 'KP Pietersen', 'JD Ryder', 'T Henderson',\n",
       "       'Kamran Khan', 'RS Bopara', 'MC Henriques', 'CH Gayle',\n",
       "       'R Bishnoi', 'KV Sharma', 'FH Edwards', 'AS Raut', 'PC Valthaty',\n",
       "       'RJ Quiney', 'Yashpal Singh', 'M Manhas', 'AA Bilakhia',\n",
       "       'AN Ghosh', 'BAW Mendis', 'DL Vettori', 'MN van Wyk',\n",
       "       'RE van der Merwe', 'TL Suman', 'Shoaib Ahmed', 'GR Napier',\n",
       "       'KP Appanna', 'LA Carseldine', 'NV Ojha', 'SM Harwood', 'M Vijay',\n",
       "       'DA Warner', 'SB Jakati', 'RJ Harris', 'D du Preez', 'M Morkel',\n",
       "       'AD Mathews', 'SL Malinga', 'C Nanda', 'J Botha',\n",
       "       'Mashrafe Mortaza', 'A Singh', 'GJ Bailey', 'AB McDonald',\n",
       "       'Y Nagar', 'SS Shaikh', 'R Ashwin', 'Mohammad Ashraful',\n",
       "       'Jaskaran Singh', 'Anirudh Singh', 'CA Pujara', 'OA Shah',\n",
       "       'AP Tare', 'AT Rayudu', 'R Sathish', 'R McLaren',\n",
       "       'AA Jhunjhunwala', 'P Dogra', 'A Uniyal', 'MS Bisla', 'YA Abdulla',\n",
       "       'EJG Morgan', 'JM Kemp', 'S Tyagi', 'RS Gavaskar', 'SE Bond',\n",
       "       'S Ladda', 'DP Nannes', 'KA Pollard', 'DR Martyn', 'S Narwal',\n",
       "       'MJ Lumb', 'Bipul Sharma', 'AB Barath', 'FY Fazal', 'AC Voges',\n",
       "       'MD Mishra', 'UT Yadav', 'J Theron', 'SJ Srivastava', 'R Sharma',\n",
       "       'Mandeep Singh', 'KM Jadhav', 'SW Tait', 'KB Arun Karthik',\n",
       "       'KAJ Roach', 'PD Collingwood', 'CK Langeveldt', 'VS Malik',\n",
       "       'A Mithun', 'AP Dole', 'AN Ahmed', 'RS Sodhi', 'DE Bollinger',\n",
       "       'S Sriram', 'B Sumanth', 'C Madan', 'AG Paunikar', 'MR Marsh',\n",
       "       'AJ Finch', 'STR Binny', 'Harmeet Singh', 'IR Jaggi',\n",
       "       'DT Christian', 'MA Agarwal', 'RV Gomez', 'AUK Pathan',\n",
       "       'UBT Chand', 'DJ Jacobs', 'NJ Rimmington', 'Sunny Singh',\n",
       "       'AL Menaria', 'WD Parnell', 'JJ van der Wath', 'R Ninan',\n",
       "       'S Aravind', 'MS Wade', 'TD Paine', 'JEC Franklin', 'SB Wagh',\n",
       "       'AC Thomas', 'Shakib Al Hasan', 'DH Yagnik', 'S Randiv',\n",
       "       'BJ Haddin', 'NLTC Perera', 'NL McCullum', 'JE Taylor',\n",
       "       'J Syed Mohammad', 'RN ten Doeschate', 'TR Birt', 'AG Murtaza',\n",
       "       'Harpreet Singh', 'M Klinger', 'AC Blizzard', 'I Malhotra',\n",
       "       'L Ablish', 'CA Ingram', 'S Nadeem', 'P Parameswaran',\n",
       "       'CJ Ferguson', 'VR Aaron', 'AA Chavan', 'ND Doshi', 'B Kumar',\n",
       "       'Y Gnaneswara Rao', 'S Rana', 'BA Bhatt', 'F du Plessis',\n",
       "       'RE Levi', 'GJ Maxwell', 'SPD Smith', 'SA Yadav', 'MN Samuels',\n",
       "       'KK Cooper', 'JP Faulkner', 'HV Patel', 'DAJ Bracewell',\n",
       "       'DJ Harris', 'Ankit Sharma', 'SP Narine', 'GB Hogg', 'RR Bhatkal',\n",
       "       'CJ McKay', 'N Saini', 'DA Miller', 'Azhar Mahmood', 'P Negi',\n",
       "       'RJ Peterson', 'KMDN Kulasekara', 'A Ashish Reddy',\n",
       "       'V Pratap Singh', 'BB Samantray', 'MJ Clarke', 'Gurkeerat Singh',\n",
       "       'AP Majumdar', 'PA Reddy', 'K Upadhyay', 'P Awana', 'AD Russell',\n",
       "       'A Chandila', 'CA Lynn', 'Sunny Gupta', 'MC Juneja', 'KK Nair',\n",
       "       'GH Vihari', 'R Shukla', 'MDKJ Perera', 'AS Rajpoot', 'B Laughlin',\n",
       "       'M Vohra', 'JD Unadkat', 'Mohammed Shami', 'BMAJ Mendis',\n",
       "       'R Rampaul', 'CH Morris', 'SV Samson', 'SMSM Senanayake',\n",
       "       'BJ Rohrer', 'KL Rahul', 'Q de Kock', 'R Dhawan', 'MG Johnson',\n",
       "       'LJ Wright', 'IC Pandey', 'CM Gautam', 'X Thalaivan Sargunam',\n",
       "       'DJG Sammy', 'KW Richardson', 'MM Sharma', 'UA Birla',\n",
       "       'Parvez Rasool', 'Sandeep Sharma', 'S Kaul', 'Sachin Baby',\n",
       "       'PV Tambe', 'NM Coulter-Nile', 'CJ Anderson', 'NJ Maddinson',\n",
       "       'AR Patel', 'JJ Bumrah', 'JDS Neesham', 'TG Southee', 'MA Starc',\n",
       "       'BR Dunk', 'RR Rossouw', 'Shivam Sharma', 'YS Chahal',\n",
       "       'LMP Simmons', 'VH Zol', 'Imran Tahir', 'BCJ Cutting',\n",
       "       'BE Hendricks', 'S Gopal', 'M de Lange', 'R Tewatia', 'JO Holder',\n",
       "       'Karanveer Singh', 'SS Iyer', 'DJ Hooda', 'Anureet Singh',\n",
       "       'KS Williamson', 'SA Abbott', 'J Suchith', 'RG More', 'D Wiese',\n",
       "       'HH Pandya', 'SN Khan', 'MJ McClenaghan', 'DJ Muthuswami',\n",
       "       'PJ Cummins', 'SN Thakur', 'JC Buttler', 'CR Brathwaite',\n",
       "       'MP Stoinis', 'Ishan Kishan', 'C Munro', 'P Sahu', 'KH Pandya',\n",
       "       'AD Nath', 'MJ Guptill', 'KJ Abbott', 'TM Head', 'M Ashwin',\n",
       "       'NS Naik', 'RR Pant', 'SW Billings', 'KC Cariappa',\n",
       "       'PSP Handscomb', 'Swapnil Singh', 'J Yadav', 'UT Khawaja',\n",
       "       'HM Amla', 'F Behardien', 'A Zampa', 'BB Sran', 'N Rana',\n",
       "       'S Kaushik', 'ER Dwivedi', 'CJ Jordan', 'A Choudhary', 'TS Mills',\n",
       "       'BA Stokes', 'JJ Roy', 'Vishnu Vinod', 'Basil Thampi', 'CR Woakes',\n",
       "       'RA Tripathi', 'DL Chahar', 'V Shankar', 'Rashid Khan',\n",
       "       'LH Ferguson', 'RD Chahar', 'C de Grandhomme', 'AF Milne',\n",
       "       'S Badree', 'Mohammad Nabi', 'AJ Tye', 'K Rabada', 'Kuldeep Yadav',\n",
       "       'Washington Sundar', 'DM Bravo', 'AR Bawne', 'SP Jackson',\n",
       "       'Ankit Soni', 'TA Boult', 'E Lewis', 'MA Wood', 'RK Singh',\n",
       "       'DJM Short', 'K Gowtham', 'TK Curran', 'M Markande', 'B Stanlake',\n",
       "       'Mujeeb Ur Rahman', 'A Dananjaya', 'Shivam Mavi', 'Shubman Gill',\n",
       "       'Mohammed Siraj', 'H Klaasen', 'RK Bhui', 'JC Archer', 'PP Shaw',\n",
       "       'LE Plunkett', 'Mustafizur Rahman', 'AD Hales', 'MK Lomror',\n",
       "       'DR Shorey', 'MM Ali', 'M Prasidh Krishna', 'P Chopra',\n",
       "       'JPR Scantlebury-Searles', 'Abhishek Sharma', 'IS Sodhi',\n",
       "       'SO Hetmyer', 'S Dube', 'NA Saini', 'JM Bairstow', 'Rasikh Salam',\n",
       "       'KMA Paul', 'N Pooran', 'P Ray Barman', 'S Lamichhane',\n",
       "       'SM Curran', 'GC Viljoen', 'Avesh Khan', 'HF Gurney', 'SD Lad',\n",
       "       'AS Joseph', 'MJ Santner', 'R Parag', 'JL Denly', 'LS Livingstone',\n",
       "       'KK Ahmed', 'AJ Turner', 'SE Rutherford', 'Harpreet Brar',\n",
       "       'Y Prithvi Raj', 'P Simran Singh', 'JL Pattinson', 'A Nortje',\n",
       "       'T Banton', 'D Padikkal', 'YBK Jaiswal', 'RD Gaikwad',\n",
       "       'TU Deshpande', 'Abdul Samad', 'PK Garg', 'JR Philippe',\n",
       "       'Kartik Tyagi', 'CV Varun', 'KL Nagarkoti', 'I Udana',\n",
       "       'Ravi Bishnoi', 'Shahbaz Ahmed', 'AT Carey', 'N Jagadeesan',\n",
       "       'T Natarajan', 'P Dubey', 'SS Cottrell', 'Arshdeep Singh',\n",
       "       'DR Sams'], dtype=object)"
      ]
     },
     "execution_count": 7,
     "metadata": {},
     "output_type": "execute_result"
    }
   ],
   "source": [
    "#3\n",
    "df_ipl['batsman'].unique()"
   ]
  },
  {
   "cell_type": "code",
   "execution_count": 94,
   "id": "5fed737b-eb92-4d9d-8a5f-73f704860fca",
   "metadata": {
    "scrolled": true,
    "tags": []
   },
   "outputs": [
    {
     "data": {
      "text/plain": [
       "array(['AA Noffke', 'Z Khan', 'JH Kallis', 'SB Joshi', 'CL White',\n",
       "       'P Kumar', 'AB Agarkar', 'SC Ganguly', 'LR Shukla', 'I Sharma',\n",
       "       'AB Dinda', 'JDP Oram', 'JR Hopes', 'MS Gony', 'K Goel',\n",
       "       'PP Chawla', 'WA Mota', 'IK Pathan', 'S Sreesanth', 'B Lee',\n",
       "       'M Muralitharan', 'P Amarnath', 'Joginder Sharma', 'GD McGrath',\n",
       "       'B Geeves', 'SK Warne', 'YK Pathan', 'D Salunkhe', 'SR Watson',\n",
       "       'SK Trivedi', 'DL Vettori', 'MF Maharoof', 'MM Patel', 'R Bhatia',\n",
       "       'B Akhil', 'R Vinay Kumar', 'A Nehra', 'SM Pollock', 'DS Kulkarni',\n",
       "       'AM Nayar', 'Harbhajan Singh', 'ST Jayasuriya', 'WPUJC Vaas',\n",
       "       'RP Singh', 'SB Styris', 'SB Bangar', 'DJ Hussey',\n",
       "       'Mohammad Hafeez', 'M Kartik', 'PP Ojha', 'A Symonds',\n",
       "       'Pankaj Singh', 'Mohammad Asif', 'VY Mahesh', 'Shahid Afridi',\n",
       "       'MA Khote', 'DJ Bravo', 'VS Yeligati', 'D Kalyankrishna',\n",
       "       'VRV Singh', 'A Kumble', 'Sohail Tanvir', 'DNT Zoysa',\n",
       "       'SD Chitnis', 'Shoaib Malik', 'Yuvraj Singh', 'DW Steyn',\n",
       "       'JA Morkel', 'CRD Fernando', 'V Sehwag', 'V Kohli',\n",
       "       'Gagandeep Singh', 'Y Venugopal Rao', 'Umar Gul', 'M Ntini',\n",
       "       'PJ Sangwan', 'DP Vijaykumar', 'DB Ravi Teja', 'LPC Silva',\n",
       "       'DJ Thornely', 'RR Raje', 'SK Raina', 'S Vidyut', 'L Balaji',\n",
       "       'CK Kapugedera', 'DR Smith', 'AD Mascarenhas', 'A Mishra',\n",
       "       'Shoaib Akhtar', 'Iqbal Abdulla', 'RR Powar', 'PM Sarvesh Kumar',\n",
       "       'Abdur Razzak', 'RA Jadeja', 'TM Dilshan', 'RG Sharma', 'A Nel',\n",
       "       'BAW Mendis', 'A Flintoff', 'T Thushara', 'SL Malinga',\n",
       "       'T Henderson', 'Kamran Khan', 'JD Ryder', 'DP Nannes', 'AM Salvi',\n",
       "       'YA Abdulla', 'VS Malik', 'Harmeet Singh', 'FH Edwards',\n",
       "       'MC Henriques', 'CH Gayle', 'KP Pietersen', 'LRPL Taylor',\n",
       "       'RS Bopara', 'MK Tiwary', 'Anureet Singh', 'RR Bose', 'KP Appanna',\n",
       "       'Shoaib Ahmed', 'BJ Hodge', 'SR Tendulkar', 'RE van der Merwe',\n",
       "       'JP Duminy', 'S Tyagi', 'GR Napier', 'SM Harwood', 'AS Raut',\n",
       "       'SB Jakati', 'D du Preez', 'TL Suman', 'RJ Harris', 'A Singh',\n",
       "       'M Morkel', 'LA Carseldine', 'A Mithun', 'C Nanda', 'SS Sarkar',\n",
       "       'AD Mathews', 'AM Rahane', 'J Botha', 'Mashrafe Mortaza',\n",
       "       'AB McDonald', 'Y Nagar', 'CK Langeveldt', 'R Ashwin', 'RA Shaikh',\n",
       "       'Jaskaran Singh', 'AA Jhunjhunwala', 'A Uniyal', 'SW Tait',\n",
       "       'AG Murtaza', 'R Sathish', 'R McLaren', 'RS Gavaskar', 'JM Kemp',\n",
       "       'S Ladda', 'Bipul Sharma', 'SE Bond', 'KA Pollard', 'S Narwal',\n",
       "       'UT Yadav', 'SJ Srivastava', 'AC Voges', 'R Sharma', 'J Theron',\n",
       "       'NLTC Perera', 'KAJ Roach', 'PD Collingwood', 'C Ganapathy',\n",
       "       'MB Parmar', 'DE Bollinger', 'SB Wagh', 'JD Unadkat', 'AP Dole',\n",
       "       'AN Ahmed', 'FY Fazal', 'MR Marsh', 'L Ablish', 'S Sriram',\n",
       "       'AJ Finch', 'STR Binny', 'ND Doshi', 'S Randiv', 'TG Southee',\n",
       "       'AL Menaria', 'DT Christian', 'AUK Pathan', 'RV Gomez',\n",
       "       'JEC Franklin', 'WD Parnell', 'M Manhas', 'AC Thomas',\n",
       "       'NJ Rimmington', 'RN ten Doeschate', 'S Nadeem', 'BA Bhatt',\n",
       "       'R Ninan', 'JJ van der Wath', 'S Aravind', 'Shakib Al Hasan',\n",
       "       'PC Valthaty', 'S Dhawan', 'J Syed Mohammad', 'VR Aaron',\n",
       "       'JE Taylor', 'NL McCullum', 'KMDN Kulasekara', 'P Parameswaran',\n",
       "       'I Malhotra', 'B Chipli', 'B Kumar', 'AA Kazi', 'Anand Rajan',\n",
       "       'AA Chavan', 'P Prasanth', 'Y Gnaneswara Rao', 'S Rana',\n",
       "       'JP Faulkner', 'SS Mundhe', 'RW Price', 'GJ Maxwell', 'M de Lange',\n",
       "       'MN Samuels', 'KK Cooper', 'DAJ Bracewell', 'HV Patel',\n",
       "       'Ankit Sharma', 'DJ Harris', 'TP Sudhindra', 'F du Plessis',\n",
       "       'SP Narine', 'GB Hogg', 'RR Bhatkal', 'P Awana', 'V Pratap Singh',\n",
       "       'CJ McKay', 'A Ashish Reddy', 'AD Russell', 'Azhar Mahmood',\n",
       "       'A Chandila', 'P Negi', 'LJ Wright', 'RJ Peterson', 'R Shukla',\n",
       "       'MJ Clarke', 'BW Hilfenhaus', 'SPD Smith', 'K Upadhyay',\n",
       "       'Sunny Gupta', 'MG Johnson', 'JJ Bumrah', 'S Badree', 'AS Rajpoot',\n",
       "       'B Laughlin', 'GH Vihari', 'Mohammed Shami', 'BMAJ Mendis',\n",
       "       'CH Morris', 'Harmeet Singh (2)', 'S Kaul', 'R Dhawan',\n",
       "       'MM Sharma', 'R Rampaul', 'SMSM Senanayake', 'KV Sharma',\n",
       "       'JO Holder', 'IC Pandey', 'Sandeep Sharma', 'YS Chahal',\n",
       "       'DJG Sammy', 'KW Richardson', 'P Suyal', 'PV Tambe', 'BJ Rohrer',\n",
       "       'Parvez Rasool', 'MG Neser', 'NM Coulter-Nile', 'AC Gilchrist',\n",
       "       'CJ Anderson', 'MA Starc', 'JDS Neesham', 'AR Patel', 'M Vijay',\n",
       "       'R Tewatia', 'SA Yadav', 'Shivam Sharma', 'Imran Tahir',\n",
       "       'V Shankar', 'LMP Simmons', 'BCJ Cutting', 'S Gopal', 'K Santokie',\n",
       "       'BE Hendricks', 'PJ Cummins', 'JW Hastings', 'Karanveer Singh',\n",
       "       'DJ Muthuswami', 'TA Boult', 'SA Abbott', 'KC Cariappa',\n",
       "       'DJ Hooda', 'J Suchith', 'RG More', 'MJ McClenaghan', 'D Wiese',\n",
       "       'HH Pandya', 'SN Thakur', 'GS Sandhu', 'Gurkeerat Singh',\n",
       "       'J Yadav', 'BB Sran', 'M Ashwin', 'CR Brathwaite', 'C Munro',\n",
       "       'MP Stoinis', 'P Sahu', 'Mustafizur Rahman', 'AF Milne',\n",
       "       'Kuldeep Yadav', 'KH Pandya', 'KJ Abbott', 'T Shamsi', 'S Kaushik',\n",
       "       'SM Boland', 'Swapnil Singh', 'CJ Jordan', 'A Zampa',\n",
       "       'Sachin Baby', 'N Rana', 'DL Chahar', 'KS Williamson', 'TM Head',\n",
       "       'A Choudhary', 'TS Mills', 'Rashid Khan', 'BA Stokes', 'CR Woakes',\n",
       "       'T Natarajan', 'RD Chahar', 'B Stanlake', 'Basil Thampi',\n",
       "       'Tejas Baroka', 'C de Grandhomme', 'AJ Tye', 'LH Ferguson',\n",
       "       'Mohammad Nabi', 'Mohammed Siraj', 'K Rabada', 'Washington Sundar',\n",
       "       'SS Agarwal', 'NB Singh', 'RA Tripathi', 'Ankit Soni', 'MJ Henry',\n",
       "       'Avesh Khan', 'MA Wood', 'M Markande', 'Mujeeb Ur Rahman',\n",
       "       'K Khejroliya', 'K Gowtham', 'DJM Short', 'TK Curran',\n",
       "       'A Dananjaya', 'Shivam Mavi', 'JC Archer', 'LE Plunkett',\n",
       "       'IS Sodhi', 'MK Lomror', 'KM Asif', 'L Ngidi', 'DJ Willey',\n",
       "       'M Prasidh Krishna', 'MM Ali', 'JPR Scantlebury-Searles',\n",
       "       'S Lamichhane', 'CJ Dala', 'KK Ahmed', 'NA Saini', 'S Dube',\n",
       "       'Rasikh Salam', 'KMA Paul', 'SM Curran', 'CV Varun', 'GC Viljoen',\n",
       "       'Mandeep Singh', 'P Ray Barman', 'MJ Santner', 'JP Behrendorff',\n",
       "       'SC Kuggeleijn', 'AS Joseph', 'HF Gurney', 'S Midhun', 'R Parag',\n",
       "       'LS Livingstone', 'SN Khan', 'Abhishek Sharma', 'Arshdeep Singh',\n",
       "       'Harpreet Brar', 'SE Rutherford', 'Y Prithvi Raj', 'O Thomas',\n",
       "       'AS Roy', 'S Sandeep Warrier', 'JL Pattinson', 'SS Cottrell',\n",
       "       'A Nortje', 'Ravi Bishnoi', 'I Udana', 'TU Deshpande',\n",
       "       'KL Nagarkoti', 'Kartik Tyagi', 'DR Sams', 'Shahbaz Ahmed',\n",
       "       'Abdul Samad', 'JR Hazlewood', 'DA Warner', 'CJ Green', 'P Dubey',\n",
       "       'Monu Kumar'], dtype=object)"
      ]
     },
     "execution_count": 94,
     "metadata": {},
     "output_type": "execute_result"
    }
   ],
   "source": [
    "#5\n",
    "df_ipl['bowler'].unique()"
   ]
  },
  {
   "cell_type": "code",
   "execution_count": 8,
   "id": "6bf0d747-9d77-41a5-9588-2336293af178",
   "metadata": {},
   "outputs": [
    {
     "data": {
      "text/plain": [
       "420"
      ]
     },
     "execution_count": 8,
     "metadata": {},
     "output_type": "execute_result"
    }
   ],
   "source": [
    "len(df_ipl['bowler'].unique())"
   ]
  },
  {
   "cell_type": "code",
   "execution_count": 9,
   "id": "5faf85db-43f4-4de1-a679-0bb12f828d41",
   "metadata": {},
   "outputs": [
    {
     "data": {
      "text/plain": [
       "id                  816\n",
       "inning                2\n",
       "over                 20\n",
       "ball                  9\n",
       "batsman             537\n",
       "non_striker         530\n",
       "bowler              420\n",
       "batsman_runs          7\n",
       "extra_runs            7\n",
       "total_runs            8\n",
       "non_boundary          2\n",
       "is_wicket             2\n",
       "dismissal_kind        9\n",
       "player_dismissed    506\n",
       "fielder             879\n",
       "extras_type           5\n",
       "batting_team         15\n",
       "bowling_team         15\n",
       "dtype: int64"
      ]
     },
     "execution_count": 9,
     "metadata": {},
     "output_type": "execute_result"
    }
   ],
   "source": [
    "#2 and #4\n",
    "df_ipl.nunique()"
   ]
  },
  {
   "cell_type": "code",
   "execution_count": 10,
   "id": "d56108f1-317c-4807-80eb-6ce25b4897a5",
   "metadata": {},
   "outputs": [
    {
     "data": {
      "text/plain": [
       "array(['Kolkata Knight Riders', 'Royal Challengers Bangalore',\n",
       "       'Kings XI Punjab', 'Chennai Super Kings', 'Rajasthan Royals',\n",
       "       'Delhi Daredevils', 'Mumbai Indians', 'Deccan Chargers',\n",
       "       'Kochi Tuskers Kerala', 'Pune Warriors', 'Sunrisers Hyderabad',\n",
       "       'Rising Pune Supergiants', 'Gujarat Lions',\n",
       "       'Rising Pune Supergiant', 'Delhi Capitals'], dtype=object)"
      ]
     },
     "execution_count": 10,
     "metadata": {},
     "output_type": "execute_result"
    }
   ],
   "source": [
    "df_ipl['batting_team'].unique()"
   ]
  },
  {
   "cell_type": "code",
   "execution_count": 95,
   "id": "8a272641-ff84-4321-a7dc-e1f9049f6039",
   "metadata": {},
   "outputs": [
    {
     "data": {
      "text/plain": [
       "array(['Royal Challengers Bangalore', 'Kolkata Knight Riders',\n",
       "       'Chennai Super Kings', 'Kings XI Punjab', 'Delhi Daredevils',\n",
       "       'Rajasthan Royals', 'Mumbai Indians', 'Deccan Chargers',\n",
       "       'Kochi Tuskers Kerala', 'Pune Warriors', nan,\n",
       "       'Sunrisers Hyderabad', 'Rising Pune Supergiants', 'Gujarat Lions',\n",
       "       'Rising Pune Supergiant', 'Delhi Capitals'], dtype=object)"
      ]
     },
     "execution_count": 95,
     "metadata": {},
     "output_type": "execute_result"
    }
   ],
   "source": [
    "df_ipl['bowling_team'].unique()"
   ]
  },
  {
   "cell_type": "code",
   "execution_count": 14,
   "id": "27183d10-8e0a-46a5-967d-45dcabc422b2",
   "metadata": {},
   "outputs": [
    {
     "data": {
      "text/plain": [
       "{'Chennai Super Kings',\n",
       " 'Deccan Chargers',\n",
       " 'Delhi Capitals',\n",
       " 'Delhi Daredevils',\n",
       " 'Gujarat Lions',\n",
       " 'Kings XI Punjab',\n",
       " 'Kochi Tuskers Kerala',\n",
       " 'Kolkata Knight Riders',\n",
       " 'Mumbai Indians',\n",
       " 'Pune Warriors',\n",
       " 'Rajasthan Royals',\n",
       " 'Rising Pune Supergiant',\n",
       " 'Rising Pune Supergiants',\n",
       " 'Royal Challengers Bangalore',\n",
       " 'Sunrisers Hyderabad',\n",
       " nan}"
      ]
     },
     "execution_count": 14,
     "metadata": {},
     "output_type": "execute_result"
    }
   ],
   "source": [
    "#6\n",
    "c=[]\n",
    "c.append(df_ipl['batting_team'])\n",
    "c.append(df_ipl['bowling_team'])\n",
    "x=set()\n",
    "for i in c:\n",
    "    x.update(i)\n",
    "x"
   ]
  },
  {
   "cell_type": "code",
   "execution_count": 18,
   "id": "0d175f94-ce95-4deb-9348-c67bac85698d",
   "metadata": {},
   "outputs": [
    {
     "data": {
      "text/html": [
       "<div>\n",
       "<style scoped>\n",
       "    .dataframe tbody tr th:only-of-type {\n",
       "        vertical-align: middle;\n",
       "    }\n",
       "\n",
       "    .dataframe tbody tr th {\n",
       "        vertical-align: top;\n",
       "    }\n",
       "\n",
       "    .dataframe thead th {\n",
       "        text-align: right;\n",
       "    }\n",
       "</style>\n",
       "<table border=\"1\" class=\"dataframe\">\n",
       "  <thead>\n",
       "    <tr style=\"text-align: right;\">\n",
       "      <th></th>\n",
       "      <th>batsman</th>\n",
       "      <th>total_runs</th>\n",
       "    </tr>\n",
       "  </thead>\n",
       "  <tbody>\n",
       "    <tr>\n",
       "      <th>0</th>\n",
       "      <td>V Kohli</td>\n",
       "      <td>6081</td>\n",
       "    </tr>\n",
       "    <tr>\n",
       "      <th>1</th>\n",
       "      <td>SK Raina</td>\n",
       "      <td>5604</td>\n",
       "    </tr>\n",
       "    <tr>\n",
       "      <th>2</th>\n",
       "      <td>DA Warner</td>\n",
       "      <td>5522</td>\n",
       "    </tr>\n",
       "    <tr>\n",
       "      <th>3</th>\n",
       "      <td>S Dhawan</td>\n",
       "      <td>5452</td>\n",
       "    </tr>\n",
       "    <tr>\n",
       "      <th>4</th>\n",
       "      <td>RG Sharma</td>\n",
       "      <td>5394</td>\n",
       "    </tr>\n",
       "    <tr>\n",
       "      <th>5</th>\n",
       "      <td>CH Gayle</td>\n",
       "      <td>5103</td>\n",
       "    </tr>\n",
       "    <tr>\n",
       "      <th>6</th>\n",
       "      <td>AB de Villiers</td>\n",
       "      <td>5016</td>\n",
       "    </tr>\n",
       "    <tr>\n",
       "      <th>7</th>\n",
       "      <td>RV Uthappa</td>\n",
       "      <td>4878</td>\n",
       "    </tr>\n",
       "    <tr>\n",
       "      <th>8</th>\n",
       "      <td>MS Dhoni</td>\n",
       "      <td>4855</td>\n",
       "    </tr>\n",
       "    <tr>\n",
       "      <th>9</th>\n",
       "      <td>G Gambhir</td>\n",
       "      <td>4479</td>\n",
       "    </tr>\n",
       "  </tbody>\n",
       "</table>\n",
       "</div>"
      ],
      "text/plain": [
       "          batsman  total_runs\n",
       "0         V Kohli        6081\n",
       "1        SK Raina        5604\n",
       "2       DA Warner        5522\n",
       "3        S Dhawan        5452\n",
       "4       RG Sharma        5394\n",
       "5        CH Gayle        5103\n",
       "6  AB de Villiers        5016\n",
       "7      RV Uthappa        4878\n",
       "8        MS Dhoni        4855\n",
       "9       G Gambhir        4479"
      ]
     },
     "execution_count": 18,
     "metadata": {},
     "output_type": "execute_result"
    }
   ],
   "source": [
    "#7\n",
    "a=df_ipl.groupby('batsman').sum()['total_runs']\n",
    "a=a.sort_values(ascending=False).reset_index()\n",
    "a.head(10)"
   ]
  },
  {
   "cell_type": "code",
   "execution_count": 20,
   "id": "b27527b9-2afd-4e9e-9eb6-7808516e959b",
   "metadata": {},
   "outputs": [
    {
     "data": {
      "text/plain": [
       "array([nan, 'caught', 'run out', 'bowled', 'lbw', 'retired hurt',\n",
       "       'stumped', 'caught and bowled', 'hit wicket',\n",
       "       'obstructing the field'], dtype=object)"
      ]
     },
     "execution_count": 20,
     "metadata": {},
     "output_type": "execute_result"
    }
   ],
   "source": [
    "#8\n",
    "df_ipl['dismissal_kind'].unique()"
   ]
  },
  {
   "cell_type": "code",
   "execution_count": 24,
   "id": "b84cf244-0eab-4f39-8b03-5aa18f0315c0",
   "metadata": {},
   "outputs": [
    {
     "data": {
      "text/plain": [
       "caught                   5743\n",
       "bowled                   1700\n",
       "run out                   893\n",
       "lbw                       571\n",
       "stumped                   294\n",
       "caught and bowled         269\n",
       "hit wicket                 12\n",
       "retired hurt               11\n",
       "obstructing the field       2\n",
       "Name: dismissal_kind, dtype: int64"
      ]
     },
     "execution_count": 24,
     "metadata": {},
     "output_type": "execute_result"
    }
   ],
   "source": [
    "#9\n",
    "df_ipl['dismissal_kind'].value_counts()"
   ]
  },
  {
   "cell_type": "code",
   "execution_count": 23,
   "id": "ec38865f-6c6b-458f-90e7-0a68bb42ebba",
   "metadata": {},
   "outputs": [
    {
     "data": {
      "text/plain": [
       "816"
      ]
     },
     "execution_count": 23,
     "metadata": {},
     "output_type": "execute_result"
    }
   ],
   "source": [
    "#10\n",
    "df_ipl['id'].nunique()"
   ]
  },
  {
   "cell_type": "code",
   "execution_count": 27,
   "id": "49f633ea-fbfd-491e-b2a6-1fa5e5758a79",
   "metadata": {},
   "outputs": [
    {
     "data": {
      "text/plain": [
       "batsman\n",
       "V Kohli           16161\n",
       "S Dhawan          14926\n",
       "SK Raina          14665\n",
       "RG Sharma         14441\n",
       "DA Warner         13410\n",
       "                  ...  \n",
       "S Kaushik             4\n",
       "V Pratap Singh        4\n",
       "C Nanda               3\n",
       "S Lamichhane          2\n",
       "JL Denly              1\n",
       "Name: ball, Length: 537, dtype: int64"
      ]
     },
     "execution_count": 27,
     "metadata": {},
     "output_type": "execute_result"
    }
   ],
   "source": [
    "#11\n",
    "df_ipl.groupby('batsman').sum()['ball'].sort_values(ascending=False)"
   ]
  },
  {
   "cell_type": "code",
   "execution_count": 30,
   "id": "5e53faa8-b6a1-41d5-b73a-3fba1af4c753",
   "metadata": {},
   "outputs": [
    {
     "data": {
      "text/plain": [
       "7375"
      ]
     },
     "execution_count": 30,
     "metadata": {},
     "output_type": "execute_result"
    }
   ],
   "source": [
    "#12\n",
    "df_ipl.groupby('batsman').sum()['ball'].loc['SR Tendulkar']"
   ]
  },
  {
   "cell_type": "code",
   "execution_count": 35,
   "id": "95ac519f-463d-4364-b364-87c5575d8766",
   "metadata": {},
   "outputs": [
    {
     "data": {
      "text/html": [
       "<div>\n",
       "<style scoped>\n",
       "    .dataframe tbody tr th:only-of-type {\n",
       "        vertical-align: middle;\n",
       "    }\n",
       "\n",
       "    .dataframe tbody tr th {\n",
       "        vertical-align: top;\n",
       "    }\n",
       "\n",
       "    .dataframe thead th {\n",
       "        text-align: right;\n",
       "    }\n",
       "</style>\n",
       "<table border=\"1\" class=\"dataframe\">\n",
       "  <thead>\n",
       "    <tr style=\"text-align: right;\">\n",
       "      <th></th>\n",
       "      <th>id</th>\n",
       "      <th>inning</th>\n",
       "      <th>batting_team</th>\n",
       "      <th>total_runs</th>\n",
       "    </tr>\n",
       "  </thead>\n",
       "  <tbody>\n",
       "    <tr>\n",
       "      <th>0</th>\n",
       "      <td>335982</td>\n",
       "      <td>1</td>\n",
       "      <td>Kolkata Knight Riders</td>\n",
       "      <td>222</td>\n",
       "    </tr>\n",
       "    <tr>\n",
       "      <th>1</th>\n",
       "      <td>335982</td>\n",
       "      <td>2</td>\n",
       "      <td>Royal Challengers Bangalore</td>\n",
       "      <td>82</td>\n",
       "    </tr>\n",
       "    <tr>\n",
       "      <th>2</th>\n",
       "      <td>335983</td>\n",
       "      <td>1</td>\n",
       "      <td>Chennai Super Kings</td>\n",
       "      <td>240</td>\n",
       "    </tr>\n",
       "    <tr>\n",
       "      <th>3</th>\n",
       "      <td>335983</td>\n",
       "      <td>2</td>\n",
       "      <td>Kings XI Punjab</td>\n",
       "      <td>207</td>\n",
       "    </tr>\n",
       "    <tr>\n",
       "      <th>4</th>\n",
       "      <td>335984</td>\n",
       "      <td>1</td>\n",
       "      <td>Rajasthan Royals</td>\n",
       "      <td>129</td>\n",
       "    </tr>\n",
       "    <tr>\n",
       "      <th>...</th>\n",
       "      <td>...</td>\n",
       "      <td>...</td>\n",
       "      <td>...</td>\n",
       "      <td>...</td>\n",
       "    </tr>\n",
       "    <tr>\n",
       "      <th>1625</th>\n",
       "      <td>1237178</td>\n",
       "      <td>2</td>\n",
       "      <td>Sunrisers Hyderabad</td>\n",
       "      <td>132</td>\n",
       "    </tr>\n",
       "    <tr>\n",
       "      <th>1626</th>\n",
       "      <td>1237180</td>\n",
       "      <td>1</td>\n",
       "      <td>Delhi Capitals</td>\n",
       "      <td>189</td>\n",
       "    </tr>\n",
       "    <tr>\n",
       "      <th>1627</th>\n",
       "      <td>1237180</td>\n",
       "      <td>2</td>\n",
       "      <td>Sunrisers Hyderabad</td>\n",
       "      <td>172</td>\n",
       "    </tr>\n",
       "    <tr>\n",
       "      <th>1628</th>\n",
       "      <td>1237181</td>\n",
       "      <td>1</td>\n",
       "      <td>Delhi Capitals</td>\n",
       "      <td>156</td>\n",
       "    </tr>\n",
       "    <tr>\n",
       "      <th>1629</th>\n",
       "      <td>1237181</td>\n",
       "      <td>2</td>\n",
       "      <td>Mumbai Indians</td>\n",
       "      <td>157</td>\n",
       "    </tr>\n",
       "  </tbody>\n",
       "</table>\n",
       "<p>1630 rows × 4 columns</p>\n",
       "</div>"
      ],
      "text/plain": [
       "           id  inning                 batting_team  total_runs\n",
       "0      335982       1        Kolkata Knight Riders         222\n",
       "1      335982       2  Royal Challengers Bangalore          82\n",
       "2      335983       1          Chennai Super Kings         240\n",
       "3      335983       2              Kings XI Punjab         207\n",
       "4      335984       1             Rajasthan Royals         129\n",
       "...       ...     ...                          ...         ...\n",
       "1625  1237178       2          Sunrisers Hyderabad         132\n",
       "1626  1237180       1               Delhi Capitals         189\n",
       "1627  1237180       2          Sunrisers Hyderabad         172\n",
       "1628  1237181       1               Delhi Capitals         156\n",
       "1629  1237181       2               Mumbai Indians         157\n",
       "\n",
       "[1630 rows x 4 columns]"
      ]
     },
     "execution_count": 35,
     "metadata": {},
     "output_type": "execute_result"
    }
   ],
   "source": [
    "#13\n",
    "df_ipl.groupby(['id','inning','batting_team'])['total_runs'].sum().reset_index()"
   ]
  },
  {
   "cell_type": "code",
   "execution_count": 92,
   "id": "f5c5fb88-e28c-46ba-b82d-f74cee114706",
   "metadata": {},
   "outputs": [
    {
     "data": {
      "text/plain": [
       "id       inning  batting_team               \n",
       "335982   1       Kolkata Knight Riders          61\n",
       "         2       Royal Challengers Bangalore    26\n",
       "335983   1       Chennai Super Kings            53\n",
       "         2       Kings XI Punjab                63\n",
       "335984   1       Rajasthan Royals               40\n",
       "                                                ..\n",
       "1237178  2       Sunrisers Hyderabad            48\n",
       "1237180  1       Delhi Capitals                 65\n",
       "         2       Sunrisers Hyderabad            49\n",
       "1237181  1       Delhi Capitals                 41\n",
       "         2       Mumbai Indians                 61\n",
       "Name: total_runs, Length: 1630, dtype: int64"
      ]
     },
     "execution_count": 92,
     "metadata": {},
     "output_type": "execute_result"
    }
   ],
   "source": [
    "#14\n",
    "a=df_ipl[df_ipl['over']<6]\n",
    "a.groupby(['id','inning','batting_team'])['total_runs'].sum()"
   ]
  },
  {
   "cell_type": "code",
   "execution_count": 93,
   "id": "3f43f19e-7148-4450-9b65-f2d94e7ac3d9",
   "metadata": {},
   "outputs": [
    {
     "data": {
      "text/plain": [
       "S Dhawan      74\n",
       "PA Patel      73\n",
       "G Gambhir     69\n",
       "CH Gayle      62\n",
       "V Sehwag      61\n",
       "              ..\n",
       "BJ Haddin      1\n",
       "R Sathish      1\n",
       "AUK Pathan     1\n",
       "Z Khan         1\n",
       "PK Garg        1\n",
       "Name: player_dismissed, Length: 237, dtype: int64"
      ]
     },
     "execution_count": 93,
     "metadata": {},
     "output_type": "execute_result"
    }
   ],
   "source": [
    "#15\n",
    "a=df_ipl[df_ipl['over']<6]\n",
    "a['player_dismissed'].value_counts()"
   ]
  },
  {
   "cell_type": "code",
   "execution_count": 38,
   "id": "153383b6-ad37-4924-a4b7-b5b8d76c779e",
   "metadata": {},
   "outputs": [
    {
     "data": {
      "text/plain": [
       "CH Gayle            6\n",
       "V Kohli             5\n",
       "SR Watson           4\n",
       "DA Warner           4\n",
       "AB de Villiers      3\n",
       "BB McCullum         2\n",
       "HM Amla             2\n",
       "AM Rahane           2\n",
       "V Sehwag            2\n",
       "SV Samson           2\n",
       "BA Stokes           2\n",
       "M Vijay             2\n",
       "KL Rahul            2\n",
       "AC Gilchrist        2\n",
       "S Dhawan            2\n",
       "LMP Simmons         1\n",
       "RR Pant             1\n",
       "AT Rayudu           1\n",
       "JM Bairstow         1\n",
       "SPD Smith           1\n",
       "Q de Kock           1\n",
       "WP Saha             1\n",
       "RG Sharma           1\n",
       "DA Miller           1\n",
       "SK Raina            1\n",
       "MEK Hussey          1\n",
       "KP Pietersen        1\n",
       "SR Tendulkar        1\n",
       "PC Valthaty         1\n",
       "DPMD Jayawardene    1\n",
       "YK Pathan           1\n",
       "MK Pandey           1\n",
       "SE Marsh            1\n",
       "ST Jayasuriya       1\n",
       "A Symonds           1\n",
       "MA Agarwal          1\n",
       "Name: batsman, dtype: int64"
      ]
     },
     "execution_count": 38,
     "metadata": {},
     "output_type": "execute_result"
    }
   ],
   "source": [
    "#16\n",
    "a=df_ipl.groupby(['id','inning','batsman'])['batsman_runs'].sum().reset_index()\n",
    "b=a[a['batsman_runs']>=100]\n",
    "b['batsman'].value_counts()"
   ]
  },
  {
   "cell_type": "code",
   "execution_count": 46,
   "id": "f748d2fa-2e51-4db9-aef9-114c3662b203",
   "metadata": {},
   "outputs": [
    {
     "data": {
      "text/plain": [
       "DA Warner          48\n",
       "S Dhawan           41\n",
       "RG Sharma          39\n",
       "V Kohli            39\n",
       "AB de Villiers     38\n",
       "                   ..\n",
       "MJ Lumb             1\n",
       "IK Pathan           1\n",
       "AA Jhunjhunwala     1\n",
       "AD Mathews          1\n",
       "RJ Quiney           1\n",
       "Name: batsman, Length: 156, dtype: int64"
      ]
     },
     "execution_count": 46,
     "metadata": {},
     "output_type": "execute_result"
    }
   ],
   "source": [
    "#17\n",
    "a=df_ipl.groupby(['id','inning','batsman'])['batsman_runs'].sum().reset_index()\n",
    "b=a[(a['batsman_runs']>=50) & (a['batsman_runs']<100)]\n",
    "b['batsman'].value_counts()"
   ]
  },
  {
   "cell_type": "code",
   "execution_count": 48,
   "id": "19858f9f-1961-48ef-a1ff-3f7801567dbd",
   "metadata": {},
   "outputs": [
    {
     "data": {
      "text/html": [
       "<div>\n",
       "<style scoped>\n",
       "    .dataframe tbody tr th:only-of-type {\n",
       "        vertical-align: middle;\n",
       "    }\n",
       "\n",
       "    .dataframe tbody tr th {\n",
       "        vertical-align: top;\n",
       "    }\n",
       "\n",
       "    .dataframe thead th {\n",
       "        text-align: right;\n",
       "    }\n",
       "</style>\n",
       "<table border=\"1\" class=\"dataframe\">\n",
       "  <thead>\n",
       "    <tr style=\"text-align: right;\">\n",
       "      <th></th>\n",
       "      <th>bowler</th>\n",
       "      <th>is_wicket</th>\n",
       "    </tr>\n",
       "  </thead>\n",
       "  <tbody>\n",
       "    <tr>\n",
       "      <th>0</th>\n",
       "      <td>SL Malinga</td>\n",
       "      <td>188</td>\n",
       "    </tr>\n",
       "    <tr>\n",
       "      <th>1</th>\n",
       "      <td>DJ Bravo</td>\n",
       "      <td>175</td>\n",
       "    </tr>\n",
       "    <tr>\n",
       "      <th>2</th>\n",
       "      <td>A Mishra</td>\n",
       "      <td>169</td>\n",
       "    </tr>\n",
       "    <tr>\n",
       "      <th>3</th>\n",
       "      <td>PP Chawla</td>\n",
       "      <td>164</td>\n",
       "    </tr>\n",
       "    <tr>\n",
       "      <th>4</th>\n",
       "      <td>Harbhajan Singh</td>\n",
       "      <td>161</td>\n",
       "    </tr>\n",
       "    <tr>\n",
       "      <th>5</th>\n",
       "      <td>R Ashwin</td>\n",
       "      <td>153</td>\n",
       "    </tr>\n",
       "    <tr>\n",
       "      <th>6</th>\n",
       "      <td>B Kumar</td>\n",
       "      <td>146</td>\n",
       "    </tr>\n",
       "    <tr>\n",
       "      <th>7</th>\n",
       "      <td>SP Narine</td>\n",
       "      <td>143</td>\n",
       "    </tr>\n",
       "    <tr>\n",
       "      <th>8</th>\n",
       "      <td>UT Yadav</td>\n",
       "      <td>137</td>\n",
       "    </tr>\n",
       "    <tr>\n",
       "      <th>9</th>\n",
       "      <td>R Vinay Kumar</td>\n",
       "      <td>127</td>\n",
       "    </tr>\n",
       "    <tr>\n",
       "      <th>10</th>\n",
       "      <td>YS Chahal</td>\n",
       "      <td>124</td>\n",
       "    </tr>\n",
       "    <tr>\n",
       "      <th>11</th>\n",
       "      <td>RA Jadeja</td>\n",
       "      <td>122</td>\n",
       "    </tr>\n",
       "    <tr>\n",
       "      <th>12</th>\n",
       "      <td>A Nehra</td>\n",
       "      <td>121</td>\n",
       "    </tr>\n",
       "    <tr>\n",
       "      <th>13</th>\n",
       "      <td>JJ Bumrah</td>\n",
       "      <td>119</td>\n",
       "    </tr>\n",
       "    <tr>\n",
       "      <th>14</th>\n",
       "      <td>Z Khan</td>\n",
       "      <td>119</td>\n",
       "    </tr>\n",
       "    <tr>\n",
       "      <th>15</th>\n",
       "      <td>Sandeep Sharma</td>\n",
       "      <td>117</td>\n",
       "    </tr>\n",
       "    <tr>\n",
       "      <th>16</th>\n",
       "      <td>SR Watson</td>\n",
       "      <td>107</td>\n",
       "    </tr>\n",
       "    <tr>\n",
       "      <th>17</th>\n",
       "      <td>DW Steyn</td>\n",
       "      <td>105</td>\n",
       "    </tr>\n",
       "    <tr>\n",
       "      <th>18</th>\n",
       "      <td>P Kumar</td>\n",
       "      <td>102</td>\n",
       "    </tr>\n",
       "    <tr>\n",
       "      <th>19</th>\n",
       "      <td>RP Singh</td>\n",
       "      <td>100</td>\n",
       "    </tr>\n",
       "    <tr>\n",
       "      <th>20</th>\n",
       "      <td>MM Sharma</td>\n",
       "      <td>100</td>\n",
       "    </tr>\n",
       "    <tr>\n",
       "      <th>21</th>\n",
       "      <td>PP Ojha</td>\n",
       "      <td>99</td>\n",
       "    </tr>\n",
       "    <tr>\n",
       "      <th>22</th>\n",
       "      <td>IK Pathan</td>\n",
       "      <td>99</td>\n",
       "    </tr>\n",
       "    <tr>\n",
       "      <th>23</th>\n",
       "      <td>JA Morkel</td>\n",
       "      <td>96</td>\n",
       "    </tr>\n",
       "    <tr>\n",
       "      <th>24</th>\n",
       "      <td>DS Kulkarni</td>\n",
       "      <td>91</td>\n",
       "    </tr>\n",
       "    <tr>\n",
       "      <th>25</th>\n",
       "      <td>M Morkel</td>\n",
       "      <td>88</td>\n",
       "    </tr>\n",
       "    <tr>\n",
       "      <th>26</th>\n",
       "      <td>JD Unadkat</td>\n",
       "      <td>88</td>\n",
       "    </tr>\n",
       "    <tr>\n",
       "      <th>27</th>\n",
       "      <td>CH Morris</td>\n",
       "      <td>88</td>\n",
       "    </tr>\n",
       "    <tr>\n",
       "      <th>28</th>\n",
       "      <td>AR Patel</td>\n",
       "      <td>87</td>\n",
       "    </tr>\n",
       "    <tr>\n",
       "      <th>29</th>\n",
       "      <td>L Balaji</td>\n",
       "      <td>85</td>\n",
       "    </tr>\n",
       "  </tbody>\n",
       "</table>\n",
       "</div>"
      ],
      "text/plain": [
       "             bowler  is_wicket\n",
       "0        SL Malinga        188\n",
       "1          DJ Bravo        175\n",
       "2          A Mishra        169\n",
       "3         PP Chawla        164\n",
       "4   Harbhajan Singh        161\n",
       "5          R Ashwin        153\n",
       "6           B Kumar        146\n",
       "7         SP Narine        143\n",
       "8          UT Yadav        137\n",
       "9     R Vinay Kumar        127\n",
       "10        YS Chahal        124\n",
       "11        RA Jadeja        122\n",
       "12          A Nehra        121\n",
       "13        JJ Bumrah        119\n",
       "14           Z Khan        119\n",
       "15   Sandeep Sharma        117\n",
       "16        SR Watson        107\n",
       "17         DW Steyn        105\n",
       "18          P Kumar        102\n",
       "19         RP Singh        100\n",
       "20        MM Sharma        100\n",
       "21          PP Ojha         99\n",
       "22        IK Pathan         99\n",
       "23        JA Morkel         96\n",
       "24      DS Kulkarni         91\n",
       "25         M Morkel         88\n",
       "26       JD Unadkat         88\n",
       "27        CH Morris         88\n",
       "28         AR Patel         87\n",
       "29         L Balaji         85"
      ]
     },
     "execution_count": 48,
     "metadata": {},
     "output_type": "execute_result"
    }
   ],
   "source": [
    "#18\n",
    "a=df_ipl.groupby('bowler').sum()['is_wicket']\n",
    "a=a.sort_values(ascending=False)\n",
    "a.head(30).reset_index()"
   ]
  },
  {
   "cell_type": "code",
   "execution_count": 90,
   "id": "ed98347e-bb97-4182-8b93-ec4fddfdd2cd",
   "metadata": {},
   "outputs": [
    {
     "data": {
      "text/plain": [
       "Royal Challengers Bangalore    19\n",
       "Chennai Super Kings            17\n",
       "Kings XI Punjab                14\n",
       "Mumbai Indians                 14\n",
       "Kolkata Knight Riders          12\n",
       "Sunrisers Hyderabad            12\n",
       "Rajasthan Royals                9\n",
       "Delhi Daredevils                5\n",
       "Delhi Capitals                  2\n",
       "Deccan Chargers                 1\n",
       "Gujarat Lions                   1\n",
       "Name: batting_team, dtype: int64"
      ]
     },
     "execution_count": 90,
     "metadata": {},
     "output_type": "execute_result"
    }
   ],
   "source": [
    "#19\n",
    "a=df_ipl.groupby(['id','inning','batting_team'])['total_runs'].sum().reset_index()\n",
    "b=a[a['total_runs']>=200]\n",
    "b['batting_team'].value_counts()"
   ]
  },
  {
   "cell_type": "code",
   "execution_count": 49,
   "id": "f3bc85a9-9c00-4786-9f66-17ac1b2d3e5d",
   "metadata": {},
   "outputs": [
    {
     "data": {
      "text/plain": [
       "batting_team\n",
       "Mumbai Indians                 32286\n",
       "Royal Challengers Bangalore    30214\n",
       "Kings XI Punjab                30017\n",
       "Kolkata Knight Riders          29383\n",
       "Chennai Super Kings            28363\n",
       "Name: total_runs, dtype: int64"
      ]
     },
     "execution_count": 49,
     "metadata": {},
     "output_type": "execute_result"
    }
   ],
   "source": [
    "#20\n",
    "df_ipl.groupby('batting_team')['total_runs'].sum().sort_values(ascending=False).head()"
   ]
  },
  {
   "cell_type": "code",
   "execution_count": 88,
   "id": "daab5fa7-72f6-41c5-8308-625991ab59bf",
   "metadata": {},
   "outputs": [
    {
     "data": {
      "text/plain": [
       "array(['RT Ponting', 'BB McCullum', 'DJ Hussey', 'Mohammad Hafeez',\n",
       "       'SC Ganguly', 'WP Saha', 'LR Shukla', 'M Kartik', 'I Sharma',\n",
       "       'AB Agarkar', 'DB Das', 'BJ Hodge', 'Salman Butt', 'Umar Gul',\n",
       "       'AB Dinda', 'A Chopra', 'T Taibu', 'Iqbal Abdulla',\n",
       "       'Shoaib Akhtar', 'MC Henriques', 'CH Gayle', 'SB Bangar',\n",
       "       'Yashpal Singh', 'AN Ghosh', 'BAW Mendis', 'MN van Wyk',\n",
       "       'AD Mathews', 'Mashrafe Mortaza', 'SS Shaikh', 'MK Tiwary',\n",
       "       'CA Pujara', 'OA Shah', 'RS Gavaskar', 'SE Bond', 'Mandeep Singh',\n",
       "       'CK Langeveldt', 'JH Kallis', 'MS Bisla', 'YK Pathan',\n",
       "       'EJG Morgan', 'R Bhatia', 'G Gambhir', 'Shakib Al Hasan', 'B Lee',\n",
       "       'L Balaji', 'BJ Haddin', 'SP Goswami', 'RN ten Doeschate',\n",
       "       'MV Boucher', 'SP Narine', 'Mohammed Shami', 'R McLaren',\n",
       "       'PJ Sangwan', 'SMSM Senanayake', 'S Narwal', 'P Dogra',\n",
       "       'MK Pandey', 'SA Yadav', 'RV Uthappa', 'CA Lynn', 'R Vinay Kumar',\n",
       "       'PP Chawla', 'UT Yadav', 'M Morkel', 'AD Russell', 'J Botha',\n",
       "       'PJ Cummins', 'GB Hogg', 'Azhar Mahmood', 'C Munro', 'R Sathish',\n",
       "       'JO Holder', 'CR Woakes', 'C de Grandhomme', 'NM Coulter-Nile',\n",
       "       'Kuldeep Yadav', 'DM Bravo', 'SP Jackson', 'TA Boult', 'IR Jaggi',\n",
       "       'AS Rajpoot', 'N Rana', 'KD Karthik', 'RK Singh', 'TK Curran',\n",
       "       'Shivam Mavi', 'Shubman Gill', 'MG Johnson', 'M Prasidh Krishna',\n",
       "       'JPR Scantlebury-Searles', 'NS Naik', 'HF Gurney', 'JL Denly',\n",
       "       'CR Brathwaite', 'Y Prithvi Raj', 'KC Cariappa', 'RA Tripathi',\n",
       "       'T Banton', 'LH Ferguson', 'CV Varun', 'KL Nagarkoti'],\n",
       "      dtype=object)"
      ]
     },
     "execution_count": 88,
     "metadata": {},
     "output_type": "execute_result"
    }
   ],
   "source": [
    "#21\n",
    "a=df_ipl[df_ipl['batting_team']=='Kolkata Knight Riders']\n",
    "a['batsman'].unique()"
   ]
  },
  {
   "cell_type": "code",
   "execution_count": 51,
   "id": "6dd22cb4-4f4d-4c6c-aac8-c85b6856e502",
   "metadata": {},
   "outputs": [
    {
     "data": {
      "text/plain": [
       "id       inning  batting_team           over\n",
       "335982   1       Kolkata Knight Riders  0        3\n",
       "                                        1       18\n",
       "                                        2        6\n",
       "                                        3       23\n",
       "                                        4       10\n",
       "                                                ..\n",
       "1237181  2       Mumbai Indians         14      10\n",
       "                                        15      11\n",
       "                                        16      10\n",
       "                                        17       7\n",
       "                                        18       3\n",
       "Name: total_runs, Length: 31362, dtype: int64"
      ]
     },
     "execution_count": 51,
     "metadata": {},
     "output_type": "execute_result"
    }
   ],
   "source": [
    "#22\n",
    "df_ipl.groupby(['id','inning','batting_team','over'])['total_runs'].sum()"
   ]
  },
  {
   "cell_type": "code",
   "execution_count": 53,
   "id": "e90b7833-6f66-4da0-b699-b3be76f86110",
   "metadata": {},
   "outputs": [
    {
     "data": {
      "text/plain": [
       "RG Sharma         167\n",
       "RV Uthappa        165\n",
       "SK Raina          161\n",
       "V Kohli           154\n",
       "S Dhawan          152\n",
       "                 ... \n",
       "Sunny Gupta         1\n",
       "VS Yeligati         1\n",
       "A Nel               1\n",
       "V Pratap Singh      1\n",
       "DR Sams             1\n",
       "Name: player_dismissed, Length: 506, dtype: int64"
      ]
     },
     "execution_count": 53,
     "metadata": {},
     "output_type": "execute_result"
    }
   ],
   "source": [
    "#23\n",
    "df_ipl['player_dismissed'].value_counts()"
   ]
  },
  {
   "cell_type": "code",
   "execution_count": 56,
   "id": "3f947bb9-6156-4195-a48c-01ee5054b9ea",
   "metadata": {},
   "outputs": [
    {
     "data": {
      "text/html": [
       "<div>\n",
       "<style scoped>\n",
       "    .dataframe tbody tr th:only-of-type {\n",
       "        vertical-align: middle;\n",
       "    }\n",
       "\n",
       "    .dataframe tbody tr th {\n",
       "        vertical-align: top;\n",
       "    }\n",
       "\n",
       "    .dataframe thead th {\n",
       "        text-align: right;\n",
       "    }\n",
       "</style>\n",
       "<table border=\"1\" class=\"dataframe\">\n",
       "  <thead>\n",
       "    <tr style=\"text-align: right;\">\n",
       "      <th></th>\n",
       "      <th>bowler</th>\n",
       "      <th>ball</th>\n",
       "    </tr>\n",
       "  </thead>\n",
       "  <tbody>\n",
       "    <tr>\n",
       "      <th>0</th>\n",
       "      <td>Harbhajan Singh</td>\n",
       "      <td>3451</td>\n",
       "    </tr>\n",
       "    <tr>\n",
       "      <th>1</th>\n",
       "      <td>R Ashwin</td>\n",
       "      <td>3327</td>\n",
       "    </tr>\n",
       "    <tr>\n",
       "      <th>2</th>\n",
       "      <td>PP Chawla</td>\n",
       "      <td>3285</td>\n",
       "    </tr>\n",
       "    <tr>\n",
       "      <th>3</th>\n",
       "      <td>A Mishra</td>\n",
       "      <td>3233</td>\n",
       "    </tr>\n",
       "    <tr>\n",
       "      <th>4</th>\n",
       "      <td>SL Malinga</td>\n",
       "      <td>2974</td>\n",
       "    </tr>\n",
       "    <tr>\n",
       "      <th>...</th>\n",
       "      <td>...</td>\n",
       "      <td>...</td>\n",
       "    </tr>\n",
       "    <tr>\n",
       "      <th>415</th>\n",
       "      <td>LS Livingstone</td>\n",
       "      <td>6</td>\n",
       "    </tr>\n",
       "    <tr>\n",
       "      <th>416</th>\n",
       "      <td>DA Warner</td>\n",
       "      <td>2</td>\n",
       "    </tr>\n",
       "    <tr>\n",
       "      <th>417</th>\n",
       "      <td>SPD Smith</td>\n",
       "      <td>2</td>\n",
       "    </tr>\n",
       "    <tr>\n",
       "      <th>418</th>\n",
       "      <td>SN Khan</td>\n",
       "      <td>2</td>\n",
       "    </tr>\n",
       "    <tr>\n",
       "      <th>419</th>\n",
       "      <td>AC Gilchrist</td>\n",
       "      <td>1</td>\n",
       "    </tr>\n",
       "  </tbody>\n",
       "</table>\n",
       "<p>420 rows × 2 columns</p>\n",
       "</div>"
      ],
      "text/plain": [
       "              bowler  ball\n",
       "0    Harbhajan Singh  3451\n",
       "1           R Ashwin  3327\n",
       "2          PP Chawla  3285\n",
       "3           A Mishra  3233\n",
       "4         SL Malinga  2974\n",
       "..               ...   ...\n",
       "415   LS Livingstone     6\n",
       "416        DA Warner     2\n",
       "417        SPD Smith     2\n",
       "418          SN Khan     2\n",
       "419     AC Gilchrist     1\n",
       "\n",
       "[420 rows x 2 columns]"
      ]
     },
     "execution_count": 56,
     "metadata": {},
     "output_type": "execute_result"
    }
   ],
   "source": [
    "#24\n",
    "df_ipl.groupby('bowler').count()['ball'].sort_values(ascending=False).reset_index()"
   ]
  },
  {
   "cell_type": "code",
   "execution_count": 60,
   "id": "ea3f83a3-3686-4eaf-85a1-55d407cad17b",
   "metadata": {},
   "outputs": [
    {
     "data": {
      "text/html": [
       "<div>\n",
       "<style scoped>\n",
       "    .dataframe tbody tr th:only-of-type {\n",
       "        vertical-align: middle;\n",
       "    }\n",
       "\n",
       "    .dataframe tbody tr th {\n",
       "        vertical-align: top;\n",
       "    }\n",
       "\n",
       "    .dataframe thead th {\n",
       "        text-align: right;\n",
       "    }\n",
       "</style>\n",
       "<table border=\"1\" class=\"dataframe\">\n",
       "  <thead>\n",
       "    <tr style=\"text-align: right;\">\n",
       "      <th></th>\n",
       "      <th>bowler</th>\n",
       "      <th>total_runs</th>\n",
       "    </tr>\n",
       "  </thead>\n",
       "  <tbody>\n",
       "    <tr>\n",
       "      <th>0</th>\n",
       "      <td>PP Chawla</td>\n",
       "      <td>4330</td>\n",
       "    </tr>\n",
       "    <tr>\n",
       "      <th>1</th>\n",
       "      <td>Harbhajan Singh</td>\n",
       "      <td>4038</td>\n",
       "    </tr>\n",
       "    <tr>\n",
       "      <th>2</th>\n",
       "      <td>A Mishra</td>\n",
       "      <td>3913</td>\n",
       "    </tr>\n",
       "    <tr>\n",
       "      <th>3</th>\n",
       "      <td>DJ Bravo</td>\n",
       "      <td>3869</td>\n",
       "    </tr>\n",
       "    <tr>\n",
       "      <th>4</th>\n",
       "      <td>R Ashwin</td>\n",
       "      <td>3756</td>\n",
       "    </tr>\n",
       "    <tr>\n",
       "      <th>...</th>\n",
       "      <td>...</td>\n",
       "      <td>...</td>\n",
       "    </tr>\n",
       "    <tr>\n",
       "      <th>415</th>\n",
       "      <td>SN Khan</td>\n",
       "      <td>6</td>\n",
       "    </tr>\n",
       "    <tr>\n",
       "      <th>416</th>\n",
       "      <td>AM Rahane</td>\n",
       "      <td>5</td>\n",
       "    </tr>\n",
       "    <tr>\n",
       "      <th>417</th>\n",
       "      <td>SPD Smith</td>\n",
       "      <td>5</td>\n",
       "    </tr>\n",
       "    <tr>\n",
       "      <th>418</th>\n",
       "      <td>DA Warner</td>\n",
       "      <td>2</td>\n",
       "    </tr>\n",
       "    <tr>\n",
       "      <th>419</th>\n",
       "      <td>AC Gilchrist</td>\n",
       "      <td>0</td>\n",
       "    </tr>\n",
       "  </tbody>\n",
       "</table>\n",
       "<p>420 rows × 2 columns</p>\n",
       "</div>"
      ],
      "text/plain": [
       "              bowler  total_runs\n",
       "0          PP Chawla        4330\n",
       "1    Harbhajan Singh        4038\n",
       "2           A Mishra        3913\n",
       "3           DJ Bravo        3869\n",
       "4           R Ashwin        3756\n",
       "..               ...         ...\n",
       "415          SN Khan           6\n",
       "416        AM Rahane           5\n",
       "417        SPD Smith           5\n",
       "418        DA Warner           2\n",
       "419     AC Gilchrist           0\n",
       "\n",
       "[420 rows x 2 columns]"
      ]
     },
     "execution_count": 60,
     "metadata": {},
     "output_type": "execute_result"
    }
   ],
   "source": [
    "#25\n",
    "df_ipl.groupby('bowler').sum()['total_runs'].sort_values(ascending=False).reset_index()"
   ]
  },
  {
   "cell_type": "code",
   "execution_count": 64,
   "id": "911996ca-d868-42f8-8ad7-28a183259b94",
   "metadata": {},
   "outputs": [
    {
     "data": {
      "text/plain": [
       "array([2008, 2009, 2010, 2011, 2012, 2013, 2014, 2015, 2016, 2017, 2018,\n",
       "       2019, 2020], dtype=int64)"
      ]
     },
     "execution_count": 64,
     "metadata": {},
     "output_type": "execute_result"
    }
   ],
   "source": [
    "#26\n",
    "df_iplm['date']=pd.to_datetime(df_iplm['date'])\n",
    "df_iplm['year']=df_iplm['date'].dt.year\n",
    "df_iplm['year'].unique()"
   ]
  },
  {
   "cell_type": "code",
   "execution_count": 68,
   "id": "47e5251d-d3b1-446e-9877-26b3d6851f0e",
   "metadata": {},
   "outputs": [
    {
     "data": {
      "text/plain": [
       "year\n",
       "2013.0    76\n",
       "Name: id, dtype: int64"
      ]
     },
     "execution_count": 68,
     "metadata": {},
     "output_type": "execute_result"
    }
   ],
   "source": [
    "#27\n",
    "df_iplm['date']=pd.to_datetime(df_iplm['date'])\n",
    "df_iplm['year']=df_iplm['date'].dt.year\n",
    "df_iplm['year'].nunique()\n",
    "a=df_ipl.groupby(df_iplm['year']).count()['id']\n",
    "b= a.sort_values(ascending=False)\n",
    "b.head(1)"
   ]
  },
  {
   "cell_type": "code",
   "execution_count": 70,
   "id": "ac05025a-dbd6-4795-8019-82166c2c2fea",
   "metadata": {},
   "outputs": [
    {
     "data": {
      "text/plain": [
       "Mumbai            101\n",
       "Kolkata            77\n",
       "Delhi              74\n",
       "Bangalore          65\n",
       "Hyderabad          64\n",
       "Chennai            57\n",
       "Chandigarh         56\n",
       "Jaipur             47\n",
       "Pune               38\n",
       "Abu Dhabi          29\n",
       "Dubai              26\n",
       "Bengaluru          15\n",
       "Durban             15\n",
       "Visakhapatnam      13\n",
       "Ahmedabad          12\n",
       "Sharjah            12\n",
       "Centurion          12\n",
       "Rajkot             10\n",
       "Dharamsala          9\n",
       "Indore              9\n",
       "Johannesburg        8\n",
       "Cuttack             7\n",
       "Cape Town           7\n",
       "Port Elizabeth      7\n",
       "Ranchi              7\n",
       "Raipur              6\n",
       "Kochi               5\n",
       "Kanpur              4\n",
       "East London         3\n",
       "Kimberley           3\n",
       "Nagpur              3\n",
       "Bloemfontein        2\n",
       "Name: city, dtype: int64"
      ]
     },
     "execution_count": 70,
     "metadata": {},
     "output_type": "execute_result"
    }
   ],
   "source": [
    "#28\n",
    "df_iplm['city'].value_counts()"
   ]
  },
  {
   "cell_type": "code",
   "execution_count": 71,
   "id": "3f6f844e-62fb-4efa-8c72-a7893e035c47",
   "metadata": {},
   "outputs": [
    {
     "data": {
      "text/plain": [
       "Eden Gardens                                            77\n",
       "Feroz Shah Kotla                                        74\n",
       "Wankhede Stadium                                        73\n",
       "M Chinnaswamy Stadium                                   65\n",
       "Rajiv Gandhi International Stadium, Uppal               64\n",
       "MA Chidambaram Stadium, Chepauk                         57\n",
       "Sawai Mansingh Stadium                                  47\n",
       "Punjab Cricket Association Stadium, Mohali              35\n",
       "Dubai International Cricket Stadium                     33\n",
       "Sheikh Zayed Stadium                                    29\n",
       "Punjab Cricket Association IS Bindra Stadium, Mohali    21\n",
       "Maharashtra Cricket Association Stadium                 21\n",
       "Sharjah Cricket Stadium                                 18\n",
       "Dr DY Patil Sports Academy                              17\n",
       "Subrata Roy Sahara Stadium                              17\n",
       "M.Chinnaswamy Stadium                                   15\n",
       "Kingsmead                                               15\n",
       "Dr. Y.S. Rajasekhara Reddy ACA-VDCA Cricket Stadium     13\n",
       "Sardar Patel Stadium, Motera                            12\n",
       "SuperSport Park                                         12\n",
       "Brabourne Stadium                                       11\n",
       "Saurashtra Cricket Association Stadium                  10\n",
       "Himachal Pradesh Cricket Association Stadium             9\n",
       "Holkar Cricket Stadium                                   9\n",
       "New Wanderers Stadium                                    8\n",
       "Barabati Stadium                                         7\n",
       "Newlands                                                 7\n",
       "St George's Park                                         7\n",
       "JSCA International Stadium Complex                       7\n",
       "Shaheed Veer Narayan Singh International Stadium         6\n",
       "Nehru Stadium                                            5\n",
       "Green Park                                               4\n",
       "Buffalo Park                                             3\n",
       "Vidarbha Cricket Association Stadium, Jamtha             3\n",
       "De Beers Diamond Oval                                    3\n",
       "OUTsurance Oval                                          2\n",
       "Name: venue, dtype: int64"
      ]
     },
     "execution_count": 71,
     "metadata": {},
     "output_type": "execute_result"
    }
   ],
   "source": [
    "#29\n",
    "df_iplm['venue'].value_counts()"
   ]
  },
  {
   "cell_type": "code",
   "execution_count": 75,
   "id": "b9864648-72c6-4f40-8242-4a1c4b4e2cf5",
   "metadata": {},
   "outputs": [
    {
     "data": {
      "text/plain": [
       "S Ravi             121\n",
       "HDPK Dharmasena     94\n",
       "AK Chaudhary        87\n",
       "C Shamshuddin       82\n",
       "M Erasmus           65\n",
       "dtype: int64"
      ]
     },
     "execution_count": 75,
     "metadata": {},
     "output_type": "execute_result"
    }
   ],
   "source": [
    "#30\n",
    "umpire=pd.concat([df_iplm['umpire1'],df_iplm['umpire2']])\n",
    "umpire.value_counts().head(5)"
   ]
  },
  {
   "cell_type": "code",
   "execution_count": 78,
   "id": "6fbaf52f-fba4-41f0-baba-3d8c0f3a0f2b",
   "metadata": {},
   "outputs": [
    {
     "data": {
      "text/plain": [
       "AB de Villiers    23\n",
       "Name: player_of_match, dtype: int64"
      ]
     },
     "execution_count": 78,
     "metadata": {},
     "output_type": "execute_result"
    }
   ],
   "source": [
    "#31\n",
    "df_iplm['player_of_match'].value_counts().head(1)"
   ]
  },
  {
   "cell_type": "code",
   "execution_count": 81,
   "id": "c4cab7d4-0725-44a9-941b-90b9a55716c2",
   "metadata": {},
   "outputs": [
    {
     "data": {
      "text/html": [
       "<div>\n",
       "<style scoped>\n",
       "    .dataframe tbody tr th:only-of-type {\n",
       "        vertical-align: middle;\n",
       "    }\n",
       "\n",
       "    .dataframe tbody tr th {\n",
       "        vertical-align: top;\n",
       "    }\n",
       "\n",
       "    .dataframe thead th {\n",
       "        text-align: right;\n",
       "    }\n",
       "</style>\n",
       "<table border=\"1\" class=\"dataframe\">\n",
       "  <thead>\n",
       "    <tr style=\"text-align: right;\">\n",
       "      <th></th>\n",
       "      <th>index</th>\n",
       "      <th>player_of_match</th>\n",
       "    </tr>\n",
       "  </thead>\n",
       "  <tbody>\n",
       "    <tr>\n",
       "      <th>0</th>\n",
       "      <td>AB de Villiers</td>\n",
       "      <td>23</td>\n",
       "    </tr>\n",
       "    <tr>\n",
       "      <th>1</th>\n",
       "      <td>CH Gayle</td>\n",
       "      <td>22</td>\n",
       "    </tr>\n",
       "    <tr>\n",
       "      <th>2</th>\n",
       "      <td>RG Sharma</td>\n",
       "      <td>18</td>\n",
       "    </tr>\n",
       "    <tr>\n",
       "      <th>3</th>\n",
       "      <td>DA Warner</td>\n",
       "      <td>17</td>\n",
       "    </tr>\n",
       "    <tr>\n",
       "      <th>4</th>\n",
       "      <td>MS Dhoni</td>\n",
       "      <td>17</td>\n",
       "    </tr>\n",
       "    <tr>\n",
       "      <th>5</th>\n",
       "      <td>SR Watson</td>\n",
       "      <td>16</td>\n",
       "    </tr>\n",
       "    <tr>\n",
       "      <th>6</th>\n",
       "      <td>YK Pathan</td>\n",
       "      <td>16</td>\n",
       "    </tr>\n",
       "    <tr>\n",
       "      <th>7</th>\n",
       "      <td>SK Raina</td>\n",
       "      <td>14</td>\n",
       "    </tr>\n",
       "    <tr>\n",
       "      <th>8</th>\n",
       "      <td>V Kohli</td>\n",
       "      <td>13</td>\n",
       "    </tr>\n",
       "    <tr>\n",
       "      <th>9</th>\n",
       "      <td>G Gambhir</td>\n",
       "      <td>13</td>\n",
       "    </tr>\n",
       "  </tbody>\n",
       "</table>\n",
       "</div>"
      ],
      "text/plain": [
       "            index  player_of_match\n",
       "0  AB de Villiers               23\n",
       "1        CH Gayle               22\n",
       "2       RG Sharma               18\n",
       "3       DA Warner               17\n",
       "4        MS Dhoni               17\n",
       "5       SR Watson               16\n",
       "6       YK Pathan               16\n",
       "7        SK Raina               14\n",
       "8         V Kohli               13\n",
       "9       G Gambhir               13"
      ]
     },
     "execution_count": 81,
     "metadata": {},
     "output_type": "execute_result"
    }
   ],
   "source": [
    "#32\n",
    "df_iplm['player_of_match'].value_counts().head(10).reset_index()"
   ]
  },
  {
   "cell_type": "code",
   "execution_count": 80,
   "id": "b7478a6c-f509-4ba7-a211-5a260105bc8d",
   "metadata": {},
   "outputs": [
    {
     "data": {
      "text/plain": [
       "year  winner                     \n",
       "2008  Rajasthan Royals               13\n",
       "      Kings XI Punjab                10\n",
       "      Chennai Super Kings             9\n",
       "      Delhi Daredevils                7\n",
       "      Mumbai Indians                  7\n",
       "                                     ..\n",
       "2020  Kolkata Knight Riders           7\n",
       "      Royal Challengers Bangalore     7\n",
       "      Chennai Super Kings             6\n",
       "      Kings XI Punjab                 6\n",
       "      Rajasthan Royals                6\n",
       "Name: winner, Length: 108, dtype: int64"
      ]
     },
     "execution_count": 80,
     "metadata": {},
     "output_type": "execute_result"
    }
   ],
   "source": [
    "#33\n",
    "df_iplm.groupby(['year'])['winner'].value_counts()"
   ]
  },
  {
   "cell_type": "code",
   "execution_count": 83,
   "id": "f2aed54b-b6e2-4364-ae2d-21216c021d17",
   "metadata": {},
   "outputs": [
    {
     "data": {
      "text/plain": [
       "year  player_of_match\n",
       "2008  SE Marsh           5\n",
       "      SR Watson          4\n",
       "      YK Pathan          4\n",
       "      AC Gilchrist       2\n",
       "      M Ntini            2\n",
       "                        ..\n",
       "2020  Sandeep Sharma     1\n",
       "      Shivam Mavi        1\n",
       "      Shubman Gill       1\n",
       "      V Kohli            1\n",
       "      WP Saha            1\n",
       "Name: player_of_match, Length: 558, dtype: int64"
      ]
     },
     "execution_count": 83,
     "metadata": {},
     "output_type": "execute_result"
    }
   ],
   "source": [
    "#34 \n",
    "df_iplm.groupby(df_iplm['year'])['player_of_match'].value_counts()"
   ]
  },
  {
   "cell_type": "code",
   "execution_count": null,
   "id": "8d747394-70ba-4b0c-84d4-378c79dbf543",
   "metadata": {},
   "outputs": [],
   "source": []
  }
 ],
 "metadata": {
  "kernelspec": {
   "display_name": "Python 3 (ipykernel)",
   "language": "python",
   "name": "python3"
  },
  "language_info": {
   "codemirror_mode": {
    "name": "ipython",
    "version": 3
   },
   "file_extension": ".py",
   "mimetype": "text/x-python",
   "name": "python",
   "nbconvert_exporter": "python",
   "pygments_lexer": "ipython3",
   "version": "3.9.12"
  }
 },
 "nbformat": 4,
 "nbformat_minor": 5
}
